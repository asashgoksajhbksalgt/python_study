{
  "nbformat": 4,
  "nbformat_minor": 0,
  "metadata": {
    "colab": {
      "name": "00_colab기본+Markdown기본.ipynb",
      "provenance": [],
      "authorship_tag": "ABX9TyM2G+tpDHR/RWT4kMB0LP0i",
      "include_colab_link": true
    },
    "kernelspec": {
      "name": "python3",
      "display_name": "Python 3"
    },
    "language_info": {
      "name": "python"
    }
  },
  "cells": [
    {
      "cell_type": "markdown",
      "metadata": {
        "id": "view-in-github",
        "colab_type": "text"
      },
      "source": [
        "<a href=\"https://colab.research.google.com/github/asashgoksajhbksalgt/python_study/blob/main/00_colab%EA%B8%B0%EB%B3%B8%2BMarkdown%EA%B8%B0%EB%B3%B8.ipynb\" target=\"_parent\"><img src=\"https://colab.research.google.com/assets/colab-badge.svg\" alt=\"Open In Colab\"/></a>"
      ]
    },
    {
      "cell_type": "code",
      "metadata": {
        "colab": {
          "base_uri": "https://localhost:8080/"
        },
        "id": "x-RYWvIWOuA8",
        "outputId": "63995651-0bc8-4948-fb1f-a0183db406d4"
      },
      "source": [
        "print('abc')"
      ],
      "execution_count": 3,
      "outputs": [
        {
          "output_type": "stream",
          "text": [
            "abc\n"
          ],
          "name": "stdout"
        }
      ]
    },
    {
      "cell_type": "code",
      "metadata": {
        "colab": {
          "base_uri": "https://localhost:8080/"
        },
        "id": "78HbUP3nO1GU",
        "outputId": "d6007648-aa47-49e1-926a-d6172fca2479"
      },
      "source": [
        "print('bbb')"
      ],
      "execution_count": 4,
      "outputs": [
        {
          "output_type": "stream",
          "text": [
            "bbb\n"
          ],
          "name": "stdout"
        }
      ]
    },
    {
      "cell_type": "markdown",
      "metadata": {
        "id": "A-aJhqyuPBcE"
      },
      "source": [
        "# ㅇㅇㅇㅇㅇ\n",
        "## ㅇㅇㅇㅇㅇ\n",
        "### ㅇㅇㅇㅇㅇ\n",
        "**뮻**\n",
        "\n",
        "# **ㅇㅇㅇㅇㅇ**"
      ]
    },
    {
      "cell_type": "code",
      "metadata": {
        "id": "-5XyalU2PGJ1"
      },
      "source": [
        ""
      ],
      "execution_count": null,
      "outputs": []
    }
  ]
}