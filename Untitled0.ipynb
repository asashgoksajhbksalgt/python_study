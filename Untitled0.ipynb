{
  "nbformat": 4,
  "nbformat_minor": 0,
  "metadata": {
    "colab": {
      "name": "Untitled0.ipynb",
      "provenance": [],
      "collapsed_sections": [],
      "authorship_tag": "ABX9TyNACieCten0ilDrhphkFKCx",
      "include_colab_link": true
    },
    "kernelspec": {
      "name": "python3",
      "display_name": "Python 3"
    },
    "language_info": {
      "name": "python"
    }
  },
  "cells": [
    {
      "cell_type": "markdown",
      "metadata": {
        "id": "view-in-github",
        "colab_type": "text"
      },
      "source": [
        "<a href=\"https://colab.research.google.com/github/asashgoksajhbksalgt/python_study/blob/main/Untitled0.ipynb\" target=\"_parent\"><img src=\"https://colab.research.google.com/assets/colab-badge.svg\" alt=\"Open In Colab\"/></a>"
      ]
    },
    {
      "cell_type": "markdown",
      "metadata": {
        "id": "QTNjxM8mAa0q"
      },
      "source": [
        "# **비교연산자**\n",
        "비교 연산자는 주로 대소비교를 할 때 사용합니다.\n",
        "# **대소비교**\n",
        "!=같지 않음을 비교"
      ]
    },
    {
      "cell_type": "code",
      "metadata": {
        "colab": {
          "base_uri": "https://localhost:8080/"
        },
        "id": "J_JxhUP2BNig",
        "outputId": "99574fa3-7fd1-4340-95be-c69cd6d4fb40"
      },
      "source": [
        "2==2"
      ],
      "execution_count": 4,
      "outputs": [
        {
          "output_type": "execute_result",
          "data": {
            "text/plain": [
              "True"
            ]
          },
          "metadata": {
            "tags": []
          },
          "execution_count": 4
        }
      ]
    },
    {
      "cell_type": "code",
      "metadata": {
        "colab": {
          "base_uri": "https://localhost:8080/"
        },
        "id": "vQ8Y26VOBd5y",
        "outputId": "bffd6faf-9b3d-4a04-93d9-e522b3b86d54"
      },
      "source": [
        "2==4"
      ],
      "execution_count": 5,
      "outputs": [
        {
          "output_type": "execute_result",
          "data": {
            "text/plain": [
              "False"
            ]
          },
          "metadata": {
            "tags": []
          },
          "execution_count": 5
        }
      ]
    },
    {
      "cell_type": "code",
      "metadata": {
        "colab": {
          "base_uri": "https://localhost:8080/"
        },
        "id": "Dr8p0jBXBgMI",
        "outputId": "358d2b86-a41b-43e3-f2a9-4273335f15c2"
      },
      "source": [
        "2 !=2"
      ],
      "execution_count": 6,
      "outputs": [
        {
          "output_type": "execute_result",
          "data": {
            "text/plain": [
              "False"
            ]
          },
          "metadata": {
            "tags": []
          },
          "execution_count": 6
        }
      ]
    },
    {
      "cell_type": "code",
      "metadata": {
        "colab": {
          "base_uri": "https://localhost:8080/"
        },
        "id": "qBrsy4rjBx05",
        "outputId": "218b7872-5ff9-4e75-f44b-bd90172ddce8"
      },
      "source": [
        "1 !=2"
      ],
      "execution_count": 7,
      "outputs": [
        {
          "output_type": "execute_result",
          "data": {
            "text/plain": [
              "True"
            ]
          },
          "metadata": {
            "tags": []
          },
          "execution_count": 7
        }
      ]
    },
    {
      "cell_type": "markdown",
      "metadata": {
        "id": "GFYzIqmPB-q6"
      },
      "source": [
        "# **조건문**\n",
        "조건문이란 무엇일까요?\n",
        "주어진 조ㅓ건이 **참**인 경우 그 다음 내가 정한 규칙(로직)을 실행하는 개념입니다\n",
        "\n",
        "# **if**\n",
        "- if는 어떤 조건이 성립한다면~이라는 뜻입니다.\n",
        "- if 구문 끝에는 반드시 콜른(:)을 잊지 말아주세요"
      ]
    },
    {
      "cell_type": "code",
      "metadata": {
        "colab": {
          "base_uri": "https://localhost:8080/"
        },
        "id": "5uSV_vPXCYQq",
        "outputId": "1e9032f0-c6de-4fb6-98db-27d93c274610"
      },
      "source": [
        "if 5 > 3:\n",
        "  print('참')"
      ],
      "execution_count": 11,
      "outputs": [
        {
          "output_type": "stream",
          "text": [
            "참\n"
          ],
          "name": "stdout"
        }
      ]
    },
    {
      "cell_type": "markdown",
      "metadata": {
        "id": "ENDHUq3YDmGK"
      },
      "source": [
        "# **else**\n",
        "else는 if 조건 후에 따라오며,if가 아닌 경우에 실행 됩니"
      ]
    },
    {
      "cell_type": "code",
      "metadata": {
        "colab": {
          "base_uri": "https://localhost:8080/"
        },
        "id": "t0ksa7R5DvtQ",
        "outputId": "50e7e2c7-a4d3-42b8-be52-e6aa23d6ebc2"
      },
      "source": [
        "if 3 > 5:\n",
        "   print('if 구문')\n",
        "elif 3 > 4:\n",
        "   print('elif 1 구문')\n",
        "elif 3 > 5:\n",
        "   print('elif 2 구문')\n",
        "elif 3 > 6:\n",
        "   print('elif 3 구문')\n",
        "else:\n",
        "  print('이것도 저것도 아니다')"
      ],
      "execution_count": 12,
      "outputs": [
        {
          "output_type": "stream",
          "text": [
            "이것도 저것도 아니다\n"
          ],
          "name": "stdout"
        }
      ]
    },
    {
      "cell_type": "code",
      "metadata": {
        "colab": {
          "base_uri": "https://localhost:8080/"
        },
        "id": "UGmPbeRYE1sP",
        "outputId": "78dd0f90-dad5-46ce-fa94-89a042a1c6df"
      },
      "source": [
        "if 1:\n",
        "  print('참')\n",
        "else:\n",
        "  print('거짓')"
      ],
      "execution_count": 14,
      "outputs": [
        {
          "output_type": "stream",
          "text": [
            "참\n"
          ],
          "name": "stdout"
        }
      ]
    },
    {
      "cell_type": "code",
      "metadata": {
        "colab": {
          "base_uri": "https://localhost:8080/"
        },
        "id": "3GuDPctsFJtY",
        "outputId": "b1fbb5f2-083d-49db-af92-58fe67c45eb4"
      },
      "source": [
        "if 0:\n",
        "  print('참')\n",
        "else:\n",
        "  print('거짓')"
      ],
      "execution_count": 15,
      "outputs": [
        {
          "output_type": "stream",
          "text": [
            "거짓\n"
          ],
          "name": "stdout"
        }
      ]
    },
    {
      "cell_type": "code",
      "metadata": {
        "colab": {
          "base_uri": "https://localhost:8080/",
          "height": 136
        },
        "id": "MNlfAcjXFWAo",
        "outputId": "75b01ad4-b11b-4cc8-ef42-d03f6182c759"
      },
      "source": [
        "  age = 36\n",
        "  \"30세 이상입니다.\" if age >= else \"30 세 이하입니다\""
      ],
      "execution_count": 16,
      "outputs": [
        {
          "output_type": "error",
          "ename": "SyntaxError",
          "evalue": "ignored",
          "traceback": [
            "\u001b[0;36m  File \u001b[0;32m\"<ipython-input-16-a711b1846dcf>\"\u001b[0;36m, line \u001b[0;32m2\u001b[0m\n\u001b[0;31m    \"30세 이상입니다.\" if age >= else \"30 세 이하입니다\"\u001b[0m\n\u001b[0m                              ^\u001b[0m\n\u001b[0;31mSyntaxError\u001b[0m\u001b[0;31m:\u001b[0m invalid syntax\n"
          ]
        }
      ]
    },
    {
      "cell_type": "code",
      "metadata": {
        "colab": {
          "base_uri": "https://localhost:8080/"
        },
        "id": "Xg8FvMghGDO8",
        "outputId": "b25d84e1-6568-444d-f809-d4878b9bb2e4"
      },
      "source": [
        "True and True and True"
      ],
      "execution_count": 18,
      "outputs": [
        {
          "output_type": "execute_result",
          "data": {
            "text/plain": [
              "True"
            ]
          },
          "metadata": {
            "tags": []
          },
          "execution_count": 18
        }
      ]
    },
    {
      "cell_type": "code",
      "metadata": {
        "colab": {
          "base_uri": "https://localhost:8080/"
        },
        "id": "T07GS6jLGQrQ",
        "outputId": "b7b98257-3b8b-4790-c1bd-2c60736280a9"
      },
      "source": [
        "True and False and True"
      ],
      "execution_count": 19,
      "outputs": [
        {
          "output_type": "execute_result",
          "data": {
            "text/plain": [
              "False"
            ]
          },
          "metadata": {
            "tags": []
          },
          "execution_count": 19
        }
      ]
    },
    {
      "cell_type": "code",
      "metadata": {
        "colab": {
          "base_uri": "https://localhost:8080/"
        },
        "id": "7T_zmSZdGhAA",
        "outputId": "f2e44c6b-74e1-46de-f444-16ac371a4133"
      },
      "source": [
        "True or False or False"
      ],
      "execution_count": 22,
      "outputs": [
        {
          "output_type": "execute_result",
          "data": {
            "text/plain": [
              "True"
            ]
          },
          "metadata": {
            "tags": []
          },
          "execution_count": 22
        }
      ]
    },
    {
      "cell_type": "code",
      "metadata": {
        "colab": {
          "base_uri": "https://localhost:8080/"
        },
        "id": "MM6E41aDG5_4",
        "outputId": "dc262132-9c76-48dc-868b-1e5d517cd1a5"
      },
      "source": [
        "True or True or False"
      ],
      "execution_count": 23,
      "outputs": [
        {
          "output_type": "execute_result",
          "data": {
            "text/plain": [
              "True"
            ]
          },
          "metadata": {
            "tags": []
          },
          "execution_count": 23
        }
      ]
    },
    {
      "cell_type": "code",
      "metadata": {
        "colab": {
          "base_uri": "https://localhost:8080/"
        },
        "id": "JCvxUb51G_Gw",
        "outputId": "961ca897-ecd7-4802-ac7f-396a1c5abd4e"
      },
      "source": [
        "not True"
      ],
      "execution_count": 24,
      "outputs": [
        {
          "output_type": "execute_result",
          "data": {
            "text/plain": [
              "False"
            ]
          },
          "metadata": {
            "tags": []
          },
          "execution_count": 24
        }
      ]
    },
    {
      "cell_type": "code",
      "metadata": {
        "colab": {
          "base_uri": "https://localhost:8080/"
        },
        "id": "KOPSLL6cHQlY",
        "outputId": "e52dbffa-d5d0-4428-dcf2-384a55c6fc02"
      },
      "source": [
        "not False"
      ],
      "execution_count": 25,
      "outputs": [
        {
          "output_type": "execute_result",
          "data": {
            "text/plain": [
              "True"
            ]
          },
          "metadata": {
            "tags": []
          },
          "execution_count": 25
        }
      ]
    },
    {
      "cell_type": "code",
      "metadata": {
        "id": "Nlco-8roHSoH"
      },
      "source": [
        "if not True:\n",
        "   print()"
      ],
      "execution_count": null,
      "outputs": []
    },
    {
      "cell_type": "markdown",
      "metadata": {
        "id": "QY9OczCwSJuf"
      },
      "source": [
        "# **제어문**\n",
        "**continue**\n",
        "- 반복문 내부에서 continue 구문은 해당 루프"
      ]
    },
    {
      "cell_type": "code",
      "metadata": {
        "colab": {
          "base_uri": "https://localhost:8080/"
        },
        "id": "r5JlWd6mSYuu",
        "outputId": "4a5e9862-9f7d-4cef-ecf0-33efb68020cd"
      },
      "source": [
        "set "
      ],
      "execution_count": 26,
      "outputs": [
        {
          "output_type": "execute_result",
          "data": {
            "text/plain": [
              "set"
            ]
          },
          "metadata": {
            "tags": []
          },
          "execution_count": 26
        }
      ]
    },
    {
      "cell_type": "code",
      "metadata": {
        "id": "mtnOt8P6S9-l"
      },
      "source": [
        "ㅎ"
      ],
      "execution_count": null,
      "outputs": []
    },
    {
      "cell_type": "markdown",
      "metadata": {
        "id": "yp_fvkRCYPOe"
      },
      "source": [
        "# **Comprehension**\n",
        "- 파이썬 고유의 아름다운 문법\n",
        "- 반복문과 조건문 그리고 변수에 대한 연산까지 모두 갖"
      ]
    },
    {
      "cell_type": "code",
      "metadata": {
        "colab": {
          "base_uri": "https://localhost:8080/"
        },
        "id": "NluvFZMvZWN5",
        "outputId": "34781cca-423f-400e-8718-ec0a9e252d28"
      },
      "source": [
        "mylist=[1,2,3,4,5,6,7]\n",
        "even = [i for i in mylist if i %2 == 0]\n",
        "even"
      ],
      "execution_count": 30,
      "outputs": [
        {
          "output_type": "execute_result",
          "data": {
            "text/plain": [
              "[2, 4, 6]"
            ]
          },
          "metadata": {
            "tags": []
          },
          "execution_count": 30
        }
      ]
    },
    {
      "cell_type": "code",
      "metadata": {
        "id": "6shLukHMac2S"
      },
      "source": [
        ""
      ],
      "execution_count": null,
      "outputs": []
    },
    {
      "cell_type": "code",
      "metadata": {
        "id": "5FOcg-e3Zp77"
      },
      "source": [
        "dk rlarlfrb rotoRl rotoRl rotoRLdl "
      ],
      "execution_count": null,
      "outputs": []
    },
    {
      "cell_type": "code",
      "metadata": {
        "colab": {
          "base_uri": "https://localhost:8080/"
        },
        "id": "QpHxr0R6Zlc8",
        "outputId": "5a3f9f45-3f10-4b7b-def0-ac4ecf977872"
      },
      "source": [
        " 1298746934078089168178236787271602710897401728571582717920712793719572017279671290749012498290582196829475987680967164186584576809859025017285712895712856717607493796486908492830598518308103681306*8694616478146144678568562187616649864984289437242492649264982649821648912648126587216589167589126489261289461289462189465736587812978178471289437189275891275489127658175690576903257907903750913759017590123709142904175921751095729057210979148264"
      ],
      "execution_count": 31,
      "outputs": [
        {
          "output_type": "execute_result",
          "data": {
            "text/plain": [
              "11292106493977138773618558777936009181310024766728308497517303534477402911269637499774473233039173312581990202971543772532740874314866829043421443058082091928726236338522061661808297842816015342132122160627563789910607667565277997667582828255866719463547694413458702140681270156333019890214144998282193185115040890471896710692917089150989771932227298490040695748067623176667486889123872433537702465561630675876037113505636033452942779152784"
            ]
          },
          "metadata": {
            "tags": []
          },
          "execution_count": 31
        }
      ]
    },
    {
      "cell_type": "code",
      "metadata": {
        "id": "rRyESB06a7Ly"
      },
      "source": [
        ""
      ],
      "execution_count": null,
      "outputs": []
    }
  ]
}